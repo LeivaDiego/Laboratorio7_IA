{
 "cells": [
  {
   "cell_type": "markdown",
   "id": "0242bbb1-a8e2-4c56-8747-246720260745",
   "metadata": {},
   "source": [
    "### Laboratorio 7\n",
    "---\n",
    "Diego Alberto Leiva\n",
    "Maria Marta Ramirez\n",
    "Gustavo Andres Gonzales\n",
    "José Pablo Orellana\n",
    "\n",
    "---\n"
   ]
  },
  {
   "cell_type": "code",
   "execution_count": null,
   "id": "ff510312-2ff8-48b2-88d3-4b21fb6ab2e9",
   "metadata": {},
   "outputs": [],
   "source": []
  }
 ],
 "metadata": {
  "kernelspec": {
   "display_name": "Python 3 (ipykernel)",
   "language": "python",
   "name": "python3"
  },
  "language_info": {
   "codemirror_mode": {
    "name": "ipython",
    "version": 3
   },
   "file_extension": ".py",
   "mimetype": "text/x-python",
   "name": "python",
   "nbconvert_exporter": "python",
   "pygments_lexer": "ipython3",
   "version": "3.12.1"
  }
 },
 "nbformat": 4,
 "nbformat_minor": 5
}
